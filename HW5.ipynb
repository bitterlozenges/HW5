{
 "cells": [
  {
   "cell_type": "markdown",
   "metadata": {},
   "source": [
    "# CS 182: Artificial Intelligence\n",
    "# Assignment 5: Inference under Uncertainty\n",
    "* Fall 2015\n",
    "* Due: **Monday**, November 16, 11:59pm\n",
    "\n",
    "In this assignment, you will use probabilistic inference and particle filtering to guide Pacman through a tracking  problem. Note: We will use the Pacman framework developed at Berkeley. This framework is used worldwide to teach AI, therefore it is very important that you DO NOT publish your solutions online.\n",
    "\n",
    "\n",
    "\n"
   ]
  },
  {
   "cell_type": "markdown",
   "metadata": {},
   "source": [
    "\n"
   ]
  },
  {
   "cell_type": "markdown",
   "metadata": {},
   "source": [
    "\n",
    "## Computational Assignment\n",
    "\n",
    "### Question 1\n",
    "\n",
    "Follow the instructions at:\n",
    "\n",
    "http://ai.berkeley.edu/tracking.html\n",
    "\n",
    "The page includes questions requiring implementation of sequential decision making and reinforcement algorithms we studied in class. [The grading scheme described on the Berkley webpage will not be used, but can be used for your own testing for evaluating your performance.]\n",
    "\n",
    "To get the assignment we recommend just cloning this repo:\n",
    "\n",
    "> git clone https://github.com/CS182/HW5.git\n",
    "\n",
    " Solutions should be submitted to the course dropbox folder. Submit only the files `bustersAgent.py`  and `inference.py`. If you work in a pair, only one student should submit the files, but make sure to include the names of both students at the top of each of the files.\n"
   ]
  },
  {
   "cell_type": "markdown",
   "metadata": {},
   "source": [
    "### Notes:\n",
    "\n",
    "This is by far the hardest of the Pacman assignments, but also (in my opinion) the most interesting assignment. Be sure you understand the theoretical aspects of tracking and dynamic Bayes nets, as well as particle filters, before you get started.  "
   ]
  },
  {
   "cell_type": "markdown",
   "metadata": {},
   "source": [
    "## Written Assignment \n",
    "\n",
    "Answer the following questions individually, and submit as pdf to the dropbox folder. \n",
    "\n",
    "### Question 1\n",
    "\n",
    "\n",
    "### Question 2\n",
    "\n",
    "\n",
    "\n",
    "### Question 3\n",
    "\n",
    "\n",
    "### Question 4\n",
    "\n"
   ]
  }
 ],
 "metadata": {
  "kernelspec": {
   "display_name": "Python 2",
   "language": "python",
   "name": "python2"
  },
  "language_info": {
   "codemirror_mode": {
    "name": "ipython",
    "version": 2
   },
   "file_extension": ".py",
   "mimetype": "text/x-python",
   "name": "python",
   "nbconvert_exporter": "python",
   "pygments_lexer": "ipython2",
   "version": "2.7.9"
  }
 },
 "nbformat": 4,
 "nbformat_minor": 0
}
